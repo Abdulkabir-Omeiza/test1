{
 "cells": [
  {
   "cell_type": "code",
   "execution_count": 4,
   "id": "16c0730f",
   "metadata": {},
   "outputs": [
    {
     "name": "stdout",
     "output_type": "stream",
     "text": [
      "Playing football aand taking nature walks\n"
     ]
    }
   ],
   "source": [
    "My_information = {\"Name\": \"Abdulkabir Omeiza Abdulmalik\", \n",
    "\"Slack Username\": \"Abdulkabir\",\n",
    " \"Email\": \"abdulmalikabdulkabir2019@gmail.com\",\n",
    " \"Hobby\": \"Playing football aand taking nature walks\", \n",
    " \"Countries\": \"Nigeria and Germany\",\n",
    " \"Discipline\": \"Plant Microbial Ecology\",\n",
    " \"Preferred Programming\": \"Python\"\n",
    "}\n",
    "\n",
    "print(My_information[\"Hobby\"])"
   ]
  },
  {
   "cell_type": "code",
   "execution_count": 8,
   "id": "5d961142",
   "metadata": {},
   "outputs": [
    {
     "name": "stdout",
     "output_type": "stream",
     "text": [
      "{'Name': 'Vivian', 'Slack Username': 'Korier'}\n"
     ]
    }
   ],
   "source": [
    "Group_information = {\"Abdulkabir\": {\"Name\": \"Abdulkabir Omeiza Abdulmalik\", \n",
    "\"Slack Username\": \"Abdulkabir\",\n",
    " \"Email\": \"abdulmalikabdulkabir2019@gmail.com\",\n",
    " \"Hobby\": \"Playing football aand taking nature walks\", \n",
    " \"Countries\": \"Nigeria and Germany\",\n",
    " \"Discipline\": \"Plant Microbial Ecology\",\n",
    " \"Preferred Programming\": \"Python\"\n",
    "}, \"Samuel\": {\"Name\": \"Samuel\", \"Slack Username\": \"Samslango\"}, \"Vivian\": {\"Name\": \"Vivian\", \"Slack Username\": \"Korier\"}}\n",
    "\n",
    "print(Group_information[\"Vivian\"])"
   ]
  },
  {
   "cell_type": "code",
   "execution_count": null,
   "id": "42b613d2",
   "metadata": {},
   "outputs": [],
   "source": []
  }
 ],
 "metadata": {
  "kernelspec": {
   "display_name": "Python 3 (ipykernel)",
   "language": "python",
   "name": "python3"
  },
  "language_info": {
   "codemirror_mode": {
    "name": "ipython",
    "version": 3
   },
   "file_extension": ".py",
   "mimetype": "text/x-python",
   "name": "python",
   "nbconvert_exporter": "python",
   "pygments_lexer": "ipython3",
   "version": "3.11.7"
  }
 },
 "nbformat": 4,
 "nbformat_minor": 5
}
